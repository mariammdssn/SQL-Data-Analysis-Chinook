{
 "cells": [
  {
   "cell_type": "markdown",
   "id": "fa37e31b-b347-4f85-ba1d-868bdece4455",
   "metadata": {},
   "source": [
    "# Analyse SQL - Base Chinook\n",
    "\n",
    "Ce notebook présente une analyse simple de la base relationnelle Chinook (ventes musicales).  \n",
    "Objectifs :\n",
    "- Explorer les tables\n",
    "- Réaliser quelques requêtes SQL\n",
    "- Visualiser les résultats"
   ]
  },
  {
   "cell_type": "code",
   "execution_count": 61,
   "id": "add49c03-2729-4f10-b55d-45d533a626dc",
   "metadata": {},
   "outputs": [],
   "source": [
    "import sqlite3\n",
    "import pandas as pd\n",
    "import matplotlib.pyplot as plt\n",
    "\n",
    "chinook = sqlite3.connect(\"Chinook_Sqlite.sqlite\")\n"
   ]
  },
  {
   "cell_type": "markdown",
   "id": "c2e39ba0-0e4b-45f3-b026-0346a6a664ab",
   "metadata": {},
   "source": [
    "## Explorer la base\n",
    "\n",
    "On commence par lister toutes les tables disponibles dans la base Chinook.\n"
   ]
  },
  {
   "cell_type": "code",
   "execution_count": 64,
   "id": "51702b26-5636-486f-8180-92bc537e127e",
   "metadata": {},
   "outputs": [
    {
     "data": {
      "text/html": [
       "<div>\n",
       "<style scoped>\n",
       "    .dataframe tbody tr th:only-of-type {\n",
       "        vertical-align: middle;\n",
       "    }\n",
       "\n",
       "    .dataframe tbody tr th {\n",
       "        vertical-align: top;\n",
       "    }\n",
       "\n",
       "    .dataframe thead th {\n",
       "        text-align: right;\n",
       "    }\n",
       "</style>\n",
       "<table border=\"1\" class=\"dataframe\">\n",
       "  <thead>\n",
       "    <tr style=\"text-align: right;\">\n",
       "      <th></th>\n",
       "      <th>name</th>\n",
       "    </tr>\n",
       "  </thead>\n",
       "  <tbody>\n",
       "    <tr>\n",
       "      <th>0</th>\n",
       "      <td>Album</td>\n",
       "    </tr>\n",
       "    <tr>\n",
       "      <th>1</th>\n",
       "      <td>Artist</td>\n",
       "    </tr>\n",
       "    <tr>\n",
       "      <th>2</th>\n",
       "      <td>Customer</td>\n",
       "    </tr>\n",
       "    <tr>\n",
       "      <th>3</th>\n",
       "      <td>Employee</td>\n",
       "    </tr>\n",
       "    <tr>\n",
       "      <th>4</th>\n",
       "      <td>Genre</td>\n",
       "    </tr>\n",
       "    <tr>\n",
       "      <th>5</th>\n",
       "      <td>Invoice</td>\n",
       "    </tr>\n",
       "    <tr>\n",
       "      <th>6</th>\n",
       "      <td>InvoiceLine</td>\n",
       "    </tr>\n",
       "    <tr>\n",
       "      <th>7</th>\n",
       "      <td>MediaType</td>\n",
       "    </tr>\n",
       "    <tr>\n",
       "      <th>8</th>\n",
       "      <td>Playlist</td>\n",
       "    </tr>\n",
       "    <tr>\n",
       "      <th>9</th>\n",
       "      <td>PlaylistTrack</td>\n",
       "    </tr>\n",
       "    <tr>\n",
       "      <th>10</th>\n",
       "      <td>Track</td>\n",
       "    </tr>\n",
       "  </tbody>\n",
       "</table>\n",
       "</div>"
      ],
      "text/plain": [
       "             name\n",
       "0           Album\n",
       "1          Artist\n",
       "2        Customer\n",
       "3        Employee\n",
       "4           Genre\n",
       "5         Invoice\n",
       "6     InvoiceLine\n",
       "7       MediaType\n",
       "8        Playlist\n",
       "9   PlaylistTrack\n",
       "10          Track"
      ]
     },
     "execution_count": 64,
     "metadata": {},
     "output_type": "execute_result"
    }
   ],
   "source": [
    "sql_tables = \"\"\"\n",
    "SELECT name \n",
    "FROM sqlite_master \n",
    "WHERE type='table';\n",
    "\"\"\"\n",
    "tables = pd.read_sql(sql_tables, chinook)\n",
    "tables\n"
   ]
  },
  {
   "cell_type": "markdown",
   "id": "5ce8c406-7019-45e1-9d59-2b010bf04a3a",
   "metadata": {},
   "source": [
    "- **SELECT name** -affiche la colonne name\n",
    "- **FROM sqlite_master** - table interne qui liste toutes les tables de la base.  \n",
    "- **WHERE type='table'** - on filtre pour garder seulement les tables.  \n",
    " Résultat : Sors une liste avec les noms de toutes les tables de la base de Chinook."
   ]
  },
  {
   "cell_type": "markdown",
   "id": "efffc2b8-c546-4ec5-b9da-b857cd428460",
   "metadata": {},
   "source": [
    "## Cas 1 : Top 5 artistes les plus vendus\n",
    "\n",
    "On regarde quels artistes ont le plus de ventes (en nombre de morceaux vendus).\n",
    "\n"
   ]
  },
  {
   "cell_type": "code",
   "execution_count": 70,
   "id": "17588887-0a16-41ff-be66-607a42ad1c5c",
   "metadata": {},
   "outputs": [
    {
     "data": {
      "text/html": [
       "<div>\n",
       "<style scoped>\n",
       "    .dataframe tbody tr th:only-of-type {\n",
       "        vertical-align: middle;\n",
       "    }\n",
       "\n",
       "    .dataframe tbody tr th {\n",
       "        vertical-align: top;\n",
       "    }\n",
       "\n",
       "    .dataframe thead th {\n",
       "        text-align: right;\n",
       "    }\n",
       "</style>\n",
       "<table border=\"1\" class=\"dataframe\">\n",
       "  <thead>\n",
       "    <tr style=\"text-align: right;\">\n",
       "      <th></th>\n",
       "      <th>Artist</th>\n",
       "      <th>TotalSales</th>\n",
       "    </tr>\n",
       "  </thead>\n",
       "  <tbody>\n",
       "    <tr>\n",
       "      <th>0</th>\n",
       "      <td>Iron Maiden</td>\n",
       "      <td>140</td>\n",
       "    </tr>\n",
       "    <tr>\n",
       "      <th>1</th>\n",
       "      <td>U2</td>\n",
       "      <td>107</td>\n",
       "    </tr>\n",
       "    <tr>\n",
       "      <th>2</th>\n",
       "      <td>Metallica</td>\n",
       "      <td>91</td>\n",
       "    </tr>\n",
       "    <tr>\n",
       "      <th>3</th>\n",
       "      <td>Led Zeppelin</td>\n",
       "      <td>87</td>\n",
       "    </tr>\n",
       "    <tr>\n",
       "      <th>4</th>\n",
       "      <td>Os Paralamas Do Sucesso</td>\n",
       "      <td>45</td>\n",
       "    </tr>\n",
       "  </tbody>\n",
       "</table>\n",
       "</div>"
      ],
      "text/plain": [
       "                    Artist  TotalSales\n",
       "0              Iron Maiden         140\n",
       "1                       U2         107\n",
       "2                Metallica          91\n",
       "3             Led Zeppelin          87\n",
       "4  Os Paralamas Do Sucesso          45"
      ]
     },
     "execution_count": 70,
     "metadata": {},
     "output_type": "execute_result"
    }
   ],
   "source": [
    "cas_artistes = \"\"\"\n",
    "SELECT ar.Name AS Artist, SUM(il.Quantity) AS TotalSales\n",
    "FROM InvoiceLine il\n",
    "JOIN Track t ON il.TrackId = t.TrackId\n",
    "JOIN Album al ON t.AlbumId = al.AlbumId\n",
    "JOIN Artist ar ON al.ArtistId = ar.ArtistId\n",
    "GROUP BY ar.Name\n",
    "ORDER BY TotalSales DESC\n",
    "LIMIT 5;\n",
    "\"\"\"\n",
    "top_artistes = pd.read_sql(cas_artistes, chinook)\n",
    "top_artistes\n",
    "\n"
   ]
  },
  {
   "cell_type": "markdown",
   "id": "0d985c46-dbbc-4227-b01c-90cb4a0f8bc9",
   "metadata": {},
   "source": [
    "- **SELECT ar.Name** - on récupère le nom de l’artiste.  \n",
    "- **SUM(il.Quantity)** - on additionne toutes les ventes pour chaque artiste.  \n",
    "- **FROM InvoiceLine** - on part des lignes de factures (chaque morceau vendu).  \n",
    "- **JOIN Track / Album / Artist** - on relie ventes ,morceaux ,albums et artistes.  \n",
    "- **GROUP BY ar.Name** - on regroupe toutes les ventes par artiste.  \n",
    "- **ORDER BY TotalSales DESC** - on trie du plus vendu au moins vendu.  \n",
    "- **LIMIT 5** - on garde seulement les 5 premiers.  \n",
    " Résultat : On ressort un tableau avec le top 5 des artistes et leur nombre de vente.\n"
   ]
  },
  {
   "cell_type": "code",
   "execution_count": 75,
   "id": "1a13fb18-afd4-42c0-a7fd-9ad2bafc6284",
   "metadata": {},
   "outputs": [
    {
     "data": {
      "image/png": "[encoded data removed]",
      "text/plain": [
       "<Figure size 1000x600 with 1 Axes>"
      ]
     },
     "metadata": {},
     "output_type": "display_data"
    }
   ],
   "source": [
    "# Graphique : ventes par artiste (Top 5)\n",
    "plt.figure(figsize=(10,6))\n",
    "plt.bar(top_artistes[\"Artist\"], top_artistes[\"TotalSales\"])\n",
    "plt.title(\"Ventes par artiste (Top 5)\")\n",
    "plt.xlabel(\"Artiste\")\n",
    "plt.ylabel(\"Quantité vendue\")\n",
    "plt.xticks(rotation=45)\n",
    "plt.show()\n"
   ]
  },
  {
   "cell_type": "markdown",
   "id": "f1676651-6eca-410c-a49a-fb09e42a6544",
   "metadata": {},
   "source": [
    "## Cas 2 : Revenu total par pays\n",
    "\n",
    "On calcule combien chaque pays a rapporté en termes de chiffre d'affaires.\n"
   ]
  },
  {
   "cell_type": "code",
   "execution_count": 85,
   "id": "9b448bff-4f1c-4d34-b5dc-69049346e935",
   "metadata": {},
   "outputs": [
    {
     "data": {
      "text/html": [
       "<div>\n",
       "<style scoped>\n",
       "    .dataframe tbody tr th:only-of-type {\n",
       "        vertical-align: middle;\n",
       "    }\n",
       "\n",
       "    .dataframe tbody tr th {\n",
       "        vertical-align: top;\n",
       "    }\n",
       "\n",
       "    .dataframe thead th {\n",
       "        text-align: right;\n",
       "    }\n",
       "</style>\n",
       "<table border=\"1\" class=\"dataframe\">\n",
       "  <thead>\n",
       "    <tr style=\"text-align: right;\">\n",
       "      <th></th>\n",
       "      <th>BillingCountry</th>\n",
       "      <th>Revenue</th>\n",
       "    </tr>\n",
       "  </thead>\n",
       "  <tbody>\n",
       "    <tr>\n",
       "      <th>0</th>\n",
       "      <td>USA</td>\n",
       "      <td>523.06</td>\n",
       "    </tr>\n",
       "    <tr>\n",
       "      <th>1</th>\n",
       "      <td>Canada</td>\n",
       "      <td>303.96</td>\n",
       "    </tr>\n",
       "    <tr>\n",
       "      <th>2</th>\n",
       "      <td>France</td>\n",
       "      <td>195.10</td>\n",
       "    </tr>\n",
       "    <tr>\n",
       "      <th>3</th>\n",
       "      <td>Brazil</td>\n",
       "      <td>190.10</td>\n",
       "    </tr>\n",
       "    <tr>\n",
       "      <th>4</th>\n",
       "      <td>Germany</td>\n",
       "      <td>156.48</td>\n",
       "    </tr>\n",
       "    <tr>\n",
       "      <th>5</th>\n",
       "      <td>United Kingdom</td>\n",
       "      <td>112.86</td>\n",
       "    </tr>\n",
       "    <tr>\n",
       "      <th>6</th>\n",
       "      <td>Czech Republic</td>\n",
       "      <td>90.24</td>\n",
       "    </tr>\n",
       "    <tr>\n",
       "      <th>7</th>\n",
       "      <td>Portugal</td>\n",
       "      <td>77.24</td>\n",
       "    </tr>\n",
       "    <tr>\n",
       "      <th>8</th>\n",
       "      <td>India</td>\n",
       "      <td>75.26</td>\n",
       "    </tr>\n",
       "    <tr>\n",
       "      <th>9</th>\n",
       "      <td>Chile</td>\n",
       "      <td>46.62</td>\n",
       "    </tr>\n",
       "  </tbody>\n",
       "</table>\n",
       "</div>"
      ],
      "text/plain": [
       "   BillingCountry  Revenue\n",
       "0             USA   523.06\n",
       "1          Canada   303.96\n",
       "2          France   195.10\n",
       "3          Brazil   190.10\n",
       "4         Germany   156.48\n",
       "5  United Kingdom   112.86\n",
       "6  Czech Republic    90.24\n",
       "7        Portugal    77.24\n",
       "8           India    75.26\n",
       "9           Chile    46.62"
      ]
     },
     "execution_count": 85,
     "metadata": {},
     "output_type": "execute_result"
    }
   ],
   "source": [
    "cas_pays = \"\"\"\n",
    "SELECT BillingCountry, SUM(Total) AS Revenue\n",
    "FROM Invoice\n",
    "GROUP BY BillingCountry\n",
    "ORDER BY Revenue DESC\n",
    "LIMIT 10;\n",
    "\"\"\"\n",
    "revenu_pays = pd.read_sql(cas_pays, chinook)\n",
    "revenu_pays\n",
    "\n"
   ]
  },
  {
   "cell_type": "code",
   "execution_count": 38,
   "id": "33fdc8a2-e079-475b-b48c-0b57719a5af7",
   "metadata": {},
   "outputs": [
    {
     "data": {
      "image/png": "[encoded data removed]",
      "text/plain": [
       "<Figure size 1000x600 with 1 Axes>"
      ]
     },
     "metadata": {},
     "output_type": "display_data"
    }
   ],
   "source": [
    "## Graphique : revenu total par pays\n",
    "plt.figure(figsize=(10,6))\n",
    "plt.bar(revenue_country[\"BillingCountry\"], revenue_country[\"Revenue\"], color=\"skyblue\")\n",
    "plt.title(\"Revenu total par pays (Top 10)\")\n",
    "plt.xlabel(\"Pays\")\n",
    "plt.ylabel(\"Revenu ($)\")\n",
    "plt.show()\n"
   ]
  },
  {
   "cell_type": "markdown",
   "id": "6bc527c8-2e91-4e3b-a88b-5e0d520fe4ba",
   "metadata": {},
   "source": [
    "## Cas 3 : Durée moyenne des morceaux par genre\n",
    "\n",
    "On calcule la durée moyenne (en minutes) des morceaux pour chaque genre musical.\n"
   ]
  },
  {
   "cell_type": "code",
   "execution_count": 78,
   "id": "7bd07fd0-d092-4830-b731-9aa1267ec14e",
   "metadata": {},
   "outputs": [
    {
     "data": {
      "text/html": [
       "<div>\n",
       "<style scoped>\n",
       "    .dataframe tbody tr th:only-of-type {\n",
       "        vertical-align: middle;\n",
       "    }\n",
       "\n",
       "    .dataframe tbody tr th {\n",
       "        vertical-align: top;\n",
       "    }\n",
       "\n",
       "    .dataframe thead th {\n",
       "        text-align: right;\n",
       "    }\n",
       "</style>\n",
       "<table border=\"1\" class=\"dataframe\">\n",
       "  <thead>\n",
       "    <tr style=\"text-align: right;\">\n",
       "      <th></th>\n",
       "      <th>Genre</th>\n",
       "      <th>AvgDurationMinutes</th>\n",
       "    </tr>\n",
       "  </thead>\n",
       "  <tbody>\n",
       "    <tr>\n",
       "      <th>0</th>\n",
       "      <td>Sci Fi &amp; Fantasy</td>\n",
       "      <td>48.529717</td>\n",
       "    </tr>\n",
       "    <tr>\n",
       "      <th>1</th>\n",
       "      <td>Science Fiction</td>\n",
       "      <td>43.759151</td>\n",
       "    </tr>\n",
       "    <tr>\n",
       "      <th>2</th>\n",
       "      <td>Drama</td>\n",
       "      <td>42.921396</td>\n",
       "    </tr>\n",
       "    <tr>\n",
       "      <th>3</th>\n",
       "      <td>TV Shows</td>\n",
       "      <td>35.750684</td>\n",
       "    </tr>\n",
       "    <tr>\n",
       "      <th>4</th>\n",
       "      <td>Comedy</td>\n",
       "      <td>26.421062</td>\n",
       "    </tr>\n",
       "    <tr>\n",
       "      <th>5</th>\n",
       "      <td>Metal</td>\n",
       "      <td>5.162491</td>\n",
       "    </tr>\n",
       "    <tr>\n",
       "      <th>6</th>\n",
       "      <td>Electronica/Dance</td>\n",
       "      <td>5.049763</td>\n",
       "    </tr>\n",
       "    <tr>\n",
       "      <th>7</th>\n",
       "      <td>Heavy Metal</td>\n",
       "      <td>4.957549</td>\n",
       "    </tr>\n",
       "    <tr>\n",
       "      <th>8</th>\n",
       "      <td>Classical</td>\n",
       "      <td>4.897793</td>\n",
       "    </tr>\n",
       "    <tr>\n",
       "      <th>9</th>\n",
       "      <td>Jazz</td>\n",
       "      <td>4.862590</td>\n",
       "    </tr>\n",
       "  </tbody>\n",
       "</table>\n",
       "</div>"
      ],
      "text/plain": [
       "               Genre  AvgDurationMinutes\n",
       "0   Sci Fi & Fantasy           48.529717\n",
       "1    Science Fiction           43.759151\n",
       "2              Drama           42.921396\n",
       "3           TV Shows           35.750684\n",
       "4             Comedy           26.421062\n",
       "5              Metal            5.162491\n",
       "6  Electronica/Dance            5.049763\n",
       "7        Heavy Metal            4.957549\n",
       "8          Classical            4.897793\n",
       "9               Jazz            4.862590"
      ]
     },
     "execution_count": 78,
     "metadata": {},
     "output_type": "execute_result"
    }
   ],
   "source": [
    "cas_genre = \"\"\"\n",
    "SELECT g.Name AS Genre, AVG(t.Milliseconds)/60000 AS AvgDurationMinutes\n",
    "FROM Track t\n",
    "JOIN Genre g ON t.GenreId = g.GenreId\n",
    "GROUP BY g.Name\n",
    "ORDER BY AvgDurationMinutes DESC\n",
    "LIMIT 10;\n",
    "\"\"\"\n",
    "duree_genre = pd.read_sql(cas_genre, chinook)\n",
    "duree_genre\n"
   ]
  },
  {
   "cell_type": "code",
   "execution_count": 40,
   "id": "6c82850c-b8b6-401a-a336-abd293581b2f",
   "metadata": {},
   "outputs": [
    {
     "data": {
      "image/png": "[encoded data removed]",
      "text/plain": [
       "<Figure size 1000x600 with 1 Axes>"
      ]
     },
     "metadata": {},
     "output_type": "display_data"
    }
   ],
   "source": [
    "## Graphique : Durée moyenne des morceaux par genre\n",
    "plt.figure(figsize=(10,6))\n",
    "plt.barh(avg_duration[\"Genre\"], avg_duration[\"AvgDurationMinutes\"], color=\"orange\")\n",
    "plt.xlabel(\"Durée moyenne (minutes)\")\n",
    "plt.title(\"Durée moyenne des morceaux par genre\")\n",
    "plt.show()\n"
   ]
  },
  {
   "cell_type": "markdown",
   "id": "1bd74a0b-ad2a-44a2-86d6-307c9f3a9f8b",
   "metadata": {},
   "source": [
    "## Fin de l'analyse\n",
    "\n",
    "On ferme la connexion à la base de données.\n",
    "\n"
   ]
  },
  {
   "cell_type": "code",
   "execution_count": 81,
   "id": "fa3f48ff-b405-4626-923e-5e01456082fc",
   "metadata": {},
   "outputs": [],
   "source": [
    "conn.close()\n"
   ]
  }
 ],
 "metadata": {
  "kernelspec": {
   "display_name": "Python [conda env:base] *",
   "language": "python",
   "name": "conda-base-py"
  },
  "language_info": {
   "codemirror_mode": {
    "name": "ipython",
    "version": 3
   },
   "file_extension": ".py",
   "mimetype": "text/x-python",
   "name": "python",
   "nbconvert_exporter": "python",
   "pygments_lexer": "ipython3",
   "version": "3.12.7"
  }
 },
 "nbformat": 4,
 "nbformat_minor": 5
}
